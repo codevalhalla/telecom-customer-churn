{
 "cells": [
  {
   "cell_type": "markdown",
   "id": "0ea85cd0-f4b3-4bfd-9d18-8123d0aaf9ed",
   "metadata": {},
   "source": [
    "# Machine Learning Classification\n",
    "\n",
    "## Telecom Customer Churn Prediction Project\n",
    "\n",
    "*We use logistic regression to predict churn*\n",
    "\n",
    "**Dataset** : <https://www.kaggle.com/datasets/blastchar/telco-customer-churn>\n",
    "\n"
   ]
  },
  {
   "cell_type": "code",
   "execution_count": null,
   "id": "88ecb22f-a6cd-4a1b-8977-70b25e521ab4",
   "metadata": {},
   "outputs": [],
   "source": []
  }
 ],
 "metadata": {
  "kernelspec": {
   "display_name": "Python 3 (ipykernel)",
   "language": "python",
   "name": "python3"
  },
  "language_info": {
   "codemirror_mode": {
    "name": "ipython",
    "version": 3
   },
   "file_extension": ".py",
   "mimetype": "text/x-python",
   "name": "python",
   "nbconvert_exporter": "python",
   "pygments_lexer": "ipython3",
   "version": "3.13.7"
  },
  "widgets": {
   "application/vnd.jupyter.widget-state+json": {
    "state": {},
    "version_major": 2,
    "version_minor": 0
   }
  }
 },
 "nbformat": 4,
 "nbformat_minor": 5
}
